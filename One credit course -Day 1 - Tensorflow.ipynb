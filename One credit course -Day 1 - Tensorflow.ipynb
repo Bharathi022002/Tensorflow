{
 "cells": [
  {
   "cell_type": "code",
   "execution_count": 1,
   "id": "4d811fac",
   "metadata": {},
   "outputs": [],
   "source": [
    "#TENSORTFLOW - to execute 6000*80*20 matrix within a second, KERAS\n",
    "#DEEP LEARNING\n",
    "#2-D,3-D\n",
    "#BREAST CANCER\n",
    "#HAND WRITING RECOGNITION FROM IMAGE\n",
    "#SIGN RECOGNITION FOR DEF AND DUM"
   ]
  },
  {
   "cell_type": "code",
   "execution_count": 2,
   "id": "d2f19cf5",
   "metadata": {},
   "outputs": [],
   "source": [
    "#importing libraries\n",
    "import tensorflow as tf\n",
    "import numpy as np\n",
    "import pandas as pd"
   ]
  },
  {
   "cell_type": "code",
   "execution_count": 3,
   "id": "da81666c",
   "metadata": {},
   "outputs": [
    {
     "data": {
      "text/plain": [
       "<tf.Tensor: shape=(), dtype=int32, numpy=3>"
      ]
     },
     "execution_count": 3,
     "metadata": {},
     "output_type": "execute_result"
    }
   ],
   "source": [
    "#constant -unchangeable\n",
    "t1= tf.constant(3)\n",
    "t1"
   ]
  },
  {
   "cell_type": "code",
   "execution_count": 4,
   "id": "7e92ac84",
   "metadata": {},
   "outputs": [
    {
     "data": {
      "text/plain": [
       "<tf.Tensor: shape=(3,), dtype=int32, numpy=array([1, 2, 3])>"
      ]
     },
     "execution_count": 4,
     "metadata": {},
     "output_type": "execute_result"
    }
   ],
   "source": [
    "#1-D\n",
    "t1=tf.constant([1,2,3])\n",
    "t1\n"
   ]
  },
  {
   "cell_type": "markdown",
   "id": "c2935ae6",
   "metadata": {},
   "source": [
    "# Constant- unchangable"
   ]
  },
  {
   "cell_type": "code",
   "execution_count": 6,
   "id": "3b899c8f",
   "metadata": {},
   "outputs": [
    {
     "data": {
      "text/plain": [
       "<tf.Tensor: shape=(2, 3), dtype=int32, numpy=\n",
       "array([[1, 2, 3],\n",
       "       [4, 5, 6]])>"
      ]
     },
     "execution_count": 6,
     "metadata": {},
     "output_type": "execute_result"
    }
   ],
   "source": [
    "#constant-2D\n",
    "t2=tf.constant([[1,2,3],[4,5,6]])\n",
    "t2"
   ]
  },
  {
   "cell_type": "code",
   "execution_count": 7,
   "id": "7914f1c4",
   "metadata": {},
   "outputs": [
    {
     "data": {
      "text/plain": [
       "array([[1, 2, 3],\n",
       "       [4, 5, 6]])"
      ]
     },
     "execution_count": 7,
     "metadata": {},
     "output_type": "execute_result"
    }
   ],
   "source": [
    "#tensorflow is converted to numpy array\n",
    "t2.numpy()"
   ]
  },
  {
   "cell_type": "code",
   "execution_count": 8,
   "id": "eccb0c60",
   "metadata": {},
   "outputs": [
    {
     "data": {
      "text/plain": [
       "TensorShape([2, 3])"
      ]
     },
     "execution_count": 8,
     "metadata": {},
     "output_type": "execute_result"
    }
   ],
   "source": [
    "#shape of t2\n",
    "t2.shape"
   ]
  },
  {
   "cell_type": "code",
   "execution_count": 9,
   "id": "cab03a07",
   "metadata": {},
   "outputs": [
    {
     "data": {
      "text/plain": [
       "<tf.Tensor: shape=(), dtype=int32, numpy=2>"
      ]
     },
     "execution_count": 9,
     "metadata": {},
     "output_type": "execute_result"
    }
   ],
   "source": [
    "#dimension of t2 is finding \n",
    "tf.rank(t2)"
   ]
  },
  {
   "cell_type": "markdown",
   "id": "8e85d114",
   "metadata": {},
   "source": [
    "# variable-changable"
   ]
  },
  {
   "cell_type": "code",
   "execution_count": 10,
   "id": "f4c2b3a3",
   "metadata": {},
   "outputs": [
    {
     "data": {
      "text/plain": [
       "<tf.Variable 'var1:0' shape=() dtype=float32, numpy=3.0>"
      ]
     },
     "execution_count": 10,
     "metadata": {},
     "output_type": "execute_result"
    }
   ],
   "source": [
    "#variable tensorflow\n",
    "tv1=tf.Variable(3,dtype=tf.float32,name='var1')\n",
    "tv1 "
   ]
  },
  {
   "cell_type": "code",
   "execution_count": 12,
   "id": "caf4daac",
   "metadata": {},
   "outputs": [
    {
     "data": {
      "text/plain": [
       "<tf.Variable 'var1:0' shape=(2, 3) dtype=int32, numpy=\n",
       "array([[10, 12, 13],\n",
       "       [ 6,  9,  5]])>"
      ]
     },
     "execution_count": 12,
     "metadata": {},
     "output_type": "execute_result"
    }
   ],
   "source": [
    "#2D variable tensor\n",
    "tv2=tf.Variable([[10,12,13],[6,9,5]],name='var1')\n",
    "tv2"
   ]
  },
  {
   "cell_type": "code",
   "execution_count": 13,
   "id": "01f2102e",
   "metadata": {},
   "outputs": [
    {
     "data": {
      "text/plain": [
       "<tf.Variable 'var1:0' shape=(2, 3) dtype=int32, numpy=\n",
       "array([[10, 12, 13],\n",
       "       [ 6,  9,  5]])>"
      ]
     },
     "execution_count": 13,
     "metadata": {},
     "output_type": "execute_result"
    }
   ],
   "source": [
    "tv2"
   ]
  },
  {
   "cell_type": "code",
   "execution_count": 14,
   "id": "bbe9a70f",
   "metadata": {},
   "outputs": [
    {
     "data": {
      "text/plain": [
       "<tf.Tensor: shape=(3,), dtype=int32, numpy=array([10, 12, 13])>"
      ]
     },
     "execution_count": 14,
     "metadata": {},
     "output_type": "execute_result"
    }
   ],
   "source": [
    "tv2[0]   #fetching using index value"
   ]
  },
  {
   "cell_type": "code",
   "execution_count": 35,
   "id": "146d4ffd",
   "metadata": {},
   "outputs": [
    {
     "data": {
      "text/plain": [
       "<tf.Tensor: shape=(), dtype=int32, numpy=20>"
      ]
     },
     "execution_count": 35,
     "metadata": {},
     "output_type": "execute_result"
    }
   ],
   "source": [
    "tv2[0,1]"
   ]
  },
  {
   "cell_type": "code",
   "execution_count": 36,
   "id": "df8057e8",
   "metadata": {},
   "outputs": [
    {
     "data": {
      "text/plain": [
       "<tf.Variable 'var1:0' shape=(2, 3) dtype=int32, numpy=\n",
       "array([[10, 20, 13],\n",
       "       [ 6,  9,  5]])>"
      ]
     },
     "execution_count": 36,
     "metadata": {},
     "output_type": "execute_result"
    }
   ],
   "source": [
    "tv2[0,1].assign(20)  #replacing the first row second column value\n",
    "tv2"
   ]
  },
  {
   "cell_type": "code",
   "execution_count": null,
   "id": "11110d88",
   "metadata": {},
   "outputs": [],
   "source": [
    "1-D value"
   ]
  },
  {
   "cell_type": "code",
   "execution_count": 45,
   "id": "ee830196",
   "metadata": {},
   "outputs": [
    {
     "data": {
      "text/plain": [
       "<tf.Variable 'var1:0' shape=(6,) dtype=int32, numpy=array([10, 12, 13,  6,  9,  5])>"
      ]
     },
     "execution_count": 45,
     "metadata": {},
     "output_type": "execute_result"
    }
   ],
   "source": [
    "tv3=tf.Variable([10,12,13,6,9,5],name='var1')  #1D value\n",
    "tv3"
   ]
  },
  {
   "cell_type": "code",
   "execution_count": 46,
   "id": "e12264af",
   "metadata": {},
   "outputs": [
    {
     "data": {
      "text/plain": [
       "<tf.Tensor: shape=(), dtype=int32, numpy=10>"
      ]
     },
     "execution_count": 46,
     "metadata": {},
     "output_type": "execute_result"
    }
   ],
   "source": [
    "tv3[0] "
   ]
  },
  {
   "cell_type": "code",
   "execution_count": 39,
   "id": "9cf0ba71",
   "metadata": {},
   "outputs": [
    {
     "data": {
      "text/plain": [
       "<tf.Tensor: shape=(3,), dtype=int32, numpy=array([10, 12, 13])>"
      ]
     },
     "execution_count": 39,
     "metadata": {},
     "output_type": "execute_result"
    }
   ],
   "source": [
    "tv3[0:3]   # fetching index value from 0-3"
   ]
  },
  {
   "cell_type": "code",
   "execution_count": 47,
   "id": "49e083e8",
   "metadata": {},
   "outputs": [
    {
     "data": {
      "text/plain": [
       "<tf.Variable 'var1:0' shape=(6,) dtype=int32, numpy=array([20, 12, 13,  6,  9,  5])>"
      ]
     },
     "execution_count": 47,
     "metadata": {},
     "output_type": "execute_result"
    }
   ],
   "source": [
    "tv3[0].assign(20)  #replacing the first row second column value\n",
    "tv3"
   ]
  },
  {
   "cell_type": "code",
   "execution_count": 40,
   "id": "152968a4",
   "metadata": {},
   "outputs": [
    {
     "data": {
      "text/plain": [
       "<tf.Tensor: shape=(4, 3), dtype=float32, numpy=\n",
       "array([[-0.51234996,  1.8438705 , -0.9077294 ],\n",
       "       [-0.68948233,  0.2821797 ,  0.5782067 ],\n",
       "       [-0.7498854 , -0.578337  ,  0.02866211],\n",
       "       [ 0.6782722 ,  0.22453335,  0.6456444 ]], dtype=float32)>"
      ]
     },
     "execution_count": 40,
     "metadata": {},
     "output_type": "execute_result"
    }
   ],
   "source": [
    "#creating normal distribution\n",
    "#creating random value with normal distribution\n",
    "tv3=tf.random.normal([4,3])\n",
    "tv3"
   ]
  },
  {
   "cell_type": "code",
   "execution_count": 41,
   "id": "baf920bd",
   "metadata": {},
   "outputs": [
    {
     "data": {
      "text/plain": [
       "<tf.Tensor: shape=(3, 3), dtype=float32, numpy=\n",
       "array([[1., 1., 1.],\n",
       "       [1., 1., 1.],\n",
       "       [1., 1., 1.]], dtype=float32)>"
      ]
     },
     "execution_count": 41,
     "metadata": {},
     "output_type": "execute_result"
    }
   ],
   "source": [
    "#creating 3*3 with ones\n",
    "#default data type is float\n",
    "tf.ones([3,3])"
   ]
  },
  {
   "cell_type": "code",
   "execution_count": 42,
   "id": "05548fb1",
   "metadata": {},
   "outputs": [
    {
     "data": {
      "text/plain": [
       "<tf.Tensor: shape=(3, 3), dtype=float32, numpy=\n",
       "array([[0., 0., 0.],\n",
       "       [0., 0., 0.],\n",
       "       [0., 0., 0.]], dtype=float32)>"
      ]
     },
     "execution_count": 42,
     "metadata": {},
     "output_type": "execute_result"
    }
   ],
   "source": [
    "#creating 3*3 with zeros\n",
    "tf.zeros([3,3])"
   ]
  },
  {
   "cell_type": "code",
   "execution_count": 48,
   "id": "5dd4aada",
   "metadata": {},
   "outputs": [
    {
     "data": {
      "text/plain": [
       "<tf.Variable 'Variable:0' shape=(6,) dtype=int32, numpy=array([20, 12, 13,  6,  9,  5])>"
      ]
     },
     "execution_count": 48,
     "metadata": {},
     "output_type": "execute_result"
    }
   ],
   "source": [
    "#store the value in another variable\n",
    "tv4=tf.Variable(tv3)\n",
    "tv4"
   ]
  },
  {
   "cell_type": "code",
   "execution_count": 50,
   "id": "9e6facd2",
   "metadata": {},
   "outputs": [
    {
     "data": {
      "text/plain": [
       "<tf.Tensor: shape=(3, 2), dtype=int32, numpy=\n",
       "array([[10, 20],\n",
       "       [13,  6],\n",
       "       [ 9,  5]])>"
      ]
     },
     "execution_count": 50,
     "metadata": {},
     "output_type": "execute_result"
    }
   ],
   "source": [
    "#reshaping - we change only 3*2 to 2* 3  not into 4*4 it is error\n",
    "tv2=tf.reshape(tv2,(3,2))\n",
    "tv2"
   ]
  },
  {
   "cell_type": "markdown",
   "id": "4dbd3823",
   "metadata": {},
   "source": [
    "# Arithmetic operation"
   ]
  },
  {
   "cell_type": "code",
   "execution_count": 56,
   "id": "3dd2c83d",
   "metadata": {},
   "outputs": [
    {
     "data": {
      "text/plain": [
       "<tf.Variable 'Variable:0' shape=(2, 2) dtype=int32, numpy=\n",
       "array([[10, 12],\n",
       "       [ 6,  9]])>"
      ]
     },
     "execution_count": 56,
     "metadata": {},
     "output_type": "execute_result"
    }
   ],
   "source": [
    "tf1=tf.Variable([[10,12],[6,9]])\n",
    "tf1"
   ]
  },
  {
   "cell_type": "code",
   "execution_count": 57,
   "id": "0a032d02",
   "metadata": {},
   "outputs": [
    {
     "data": {
      "text/plain": [
       "<tf.Variable 'Variable:0' shape=(2, 2) dtype=int32, numpy=\n",
       "array([[1, 2],\n",
       "       [3, 4]])>"
      ]
     },
     "execution_count": 57,
     "metadata": {},
     "output_type": "execute_result"
    }
   ],
   "source": [
    "tf2=tf.Variable([[1,2],[3,4]])\n",
    "tf2"
   ]
  },
  {
   "cell_type": "code",
   "execution_count": 58,
   "id": "cb0c0090",
   "metadata": {},
   "outputs": [
    {
     "data": {
      "text/plain": [
       "<tf.Tensor: shape=(2, 2), dtype=int32, numpy=\n",
       "array([[11, 14],\n",
       "       [ 9, 13]])>"
      ]
     },
     "execution_count": 58,
     "metadata": {},
     "output_type": "execute_result"
    }
   ],
   "source": [
    "#addition\n",
    "tf1+tf2"
   ]
  },
  {
   "cell_type": "code",
   "execution_count": 59,
   "id": "553cc17d",
   "metadata": {},
   "outputs": [
    {
     "data": {
      "text/plain": [
       "<tf.Tensor: shape=(2, 2), dtype=int32, numpy=\n",
       "array([[ 9, 10],\n",
       "       [ 3,  5]])>"
      ]
     },
     "execution_count": 59,
     "metadata": {},
     "output_type": "execute_result"
    }
   ],
   "source": [
    "#subraction\n",
    "tf1-tf2"
   ]
  },
  {
   "cell_type": "code",
   "execution_count": 60,
   "id": "a63db8f3",
   "metadata": {},
   "outputs": [
    {
     "data": {
      "text/plain": [
       "<tf.Tensor: shape=(2, 2), dtype=int32, numpy=\n",
       "array([[10, 24],\n",
       "       [18, 36]])>"
      ]
     },
     "execution_count": 60,
     "metadata": {},
     "output_type": "execute_result"
    }
   ],
   "source": [
    "#multiplication\n",
    "tf1*tf2"
   ]
  },
  {
   "cell_type": "code",
   "execution_count": 61,
   "id": "42ee75c2",
   "metadata": {},
   "outputs": [
    {
     "data": {
      "text/plain": [
       "<tf.Tensor: shape=(2, 2), dtype=int32, numpy=\n",
       "array([[100, 144],\n",
       "       [ 36,  81]])>"
      ]
     },
     "execution_count": 61,
     "metadata": {},
     "output_type": "execute_result"
    }
   ],
   "source": [
    "# power- squaring\n",
    "tf.pow(tf1,2)"
   ]
  },
  {
   "cell_type": "code",
   "execution_count": 66,
   "id": "074a5ce2",
   "metadata": {},
   "outputs": [
    {
     "data": {
      "text/plain": [
       "<tf.Tensor: shape=(3,), dtype=float32, numpy=array([1.       , 1.4142135, 1.7320508], dtype=float32)>"
      ]
     },
     "execution_count": 66,
     "metadata": {},
     "output_type": "execute_result"
    }
   ],
   "source": [
    "#square root\n",
    "tf1=tf.Variable([1.,2,3])\n",
    "tf.sqrt(tf1)"
   ]
  },
  {
   "cell_type": "markdown",
   "id": "3cb7d3c6",
   "metadata": {},
   "source": [
    "# dot product with tensor"
   ]
  },
  {
   "cell_type": "code",
   "execution_count": 69,
   "id": "baa18adb",
   "metadata": {},
   "outputs": [
    {
     "data": {
      "text/plain": [
       "<tf.Tensor: shape=(3, 3), dtype=float32, numpy=\n",
       "array([[ 6.,  4., 10.],\n",
       "       [ 9.,  6., 15.],\n",
       "       [12.,  8., 20.]], dtype=float32)>"
      ]
     },
     "execution_count": 69,
     "metadata": {},
     "output_type": "execute_result"
    }
   ],
   "source": [
    "#if axis=0 it takes first value and multiply with each value\n",
    "a=tf.Variable([2.,3,4])\n",
    "b=tf.Variable([3.,2,5])\n",
    "tf.tensordot(a,b,0)"
   ]
  },
  {
   "cell_type": "code",
   "execution_count": 92,
   "id": "dad86f3c",
   "metadata": {},
   "outputs": [
    {
     "data": {
      "text/plain": [
       "<tf.Tensor: shape=(3, 3, 3, 3), dtype=float32, numpy=\n",
       "array([[[[  6.,   4.,  10.],\n",
       "         [ 12.,  16.,   6.],\n",
       "         [ 20.,  40.,  60.]],\n",
       "\n",
       "        [[  9.,   6.,  15.],\n",
       "         [ 18.,  24.,   9.],\n",
       "         [ 30.,  60.,  90.]],\n",
       "\n",
       "        [[ 12.,   8.,  20.],\n",
       "         [ 24.,  32.,  12.],\n",
       "         [ 40.,  80., 120.]]],\n",
       "\n",
       "\n",
       "       [[[  9.,   6.,  15.],\n",
       "         [ 18.,  24.,   9.],\n",
       "         [ 30.,  60.,  90.]],\n",
       "\n",
       "        [[ 18.,  12.,  30.],\n",
       "         [ 36.,  48.,  18.],\n",
       "         [ 60., 120., 180.]],\n",
       "\n",
       "        [[ 24.,  16.,  40.],\n",
       "         [ 48.,  64.,  24.],\n",
       "         [ 80., 160., 240.]]],\n",
       "\n",
       "\n",
       "       [[[  3.,   2.,   5.],\n",
       "         [  6.,   8.,   3.],\n",
       "         [ 10.,  20.,  30.]],\n",
       "\n",
       "        [[  6.,   4.,  10.],\n",
       "         [ 12.,  16.,   6.],\n",
       "         [ 20.,  40.,  60.]],\n",
       "\n",
       "        [[  9.,   6.,  15.],\n",
       "         [ 18.,  24.,   9.],\n",
       "         [ 30.,  60.,  90.]]]], dtype=float32)>"
      ]
     },
     "execution_count": 92,
     "metadata": {},
     "output_type": "execute_result"
    }
   ],
   "source": [
    "c=tf.Variable([[2.,3,4],[3.,6,8.],[1,2,3]])\n",
    "d=tf.Variable([[3.,2,5],[6.,8,3],[10,20,30]])\n",
    "tf.tensordot(c,d,0)"
   ]
  },
  {
   "cell_type": "code",
   "execution_count": 71,
   "id": "1d432699",
   "metadata": {},
   "outputs": [
    {
     "data": {
      "text/plain": [
       "<tf.Tensor: shape=(), dtype=float32, numpy=32.0>"
      ]
     },
     "execution_count": 71,
     "metadata": {},
     "output_type": "execute_result"
    }
   ],
   "source": [
    "#dot product- multiply only 1st row with 1ist row \n",
    "a=tf.Variable([2.,3,4])\n",
    "b=tf.Variable([3.,2,5])\n",
    "tf.tensordot(a,b,1)"
   ]
  },
  {
   "cell_type": "code",
   "execution_count": 86,
   "id": "9d20969c",
   "metadata": {},
   "outputs": [
    {
     "data": {
      "text/plain": [
       "<tf.Variable 'Variable:0' shape=(2, 2) dtype=float32, numpy=\n",
       "array([[3., 4.],\n",
       "       [6., 5.]], dtype=float32)>"
      ]
     },
     "execution_count": 86,
     "metadata": {},
     "output_type": "execute_result"
    }
   ],
   "source": [
    "a=tf.Variable([[3.,4],[6.,5]])\n",
    "a"
   ]
  },
  {
   "cell_type": "code",
   "execution_count": 87,
   "id": "6b833c9c",
   "metadata": {},
   "outputs": [
    {
     "data": {
      "text/plain": [
       "<tf.Tensor: shape=(2,), dtype=complex64, numpy=array([-0.9999999+0.j,  9.       +0.j], dtype=complex64)>"
      ]
     },
     "execution_count": 87,
     "metadata": {},
     "output_type": "execute_result"
    }
   ],
   "source": [
    "#eigen values-square matrix\n",
    "tf.linalg.eigvals(a)"
   ]
  },
  {
   "cell_type": "code",
   "execution_count": 94,
   "id": "69440e48",
   "metadata": {},
   "outputs": [
    {
     "data": {
      "text/plain": [
       "<tf.Tensor: shape=(3,), dtype=complex64, numpy=array([ 0.21234712+0.j,  0.45580184+0.j, 10.331851  +0.j], dtype=complex64)>"
      ]
     },
     "execution_count": 94,
     "metadata": {},
     "output_type": "execute_result"
    }
   ],
   "source": [
    "tf.linalg.eigvals(c)"
   ]
  },
  {
   "cell_type": "code",
   "execution_count": 88,
   "id": "83a88ef5",
   "metadata": {},
   "outputs": [
    {
     "data": {
      "text/plain": [
       "<tf.Tensor: shape=(), dtype=float32, numpy=-9.0>"
      ]
     },
     "execution_count": 88,
     "metadata": {},
     "output_type": "execute_result"
    }
   ],
   "source": [
    "#determinant\n",
    "tf.linalg.det(a)"
   ]
  },
  {
   "cell_type": "code",
   "execution_count": 89,
   "id": "ef00bf7c",
   "metadata": {},
   "outputs": [
    {
     "data": {
      "text/plain": [
       "<tf.Tensor: shape=(2, 2), dtype=float32, numpy=\n",
       "array([[3., 6.],\n",
       "       [4., 5.]], dtype=float32)>"
      ]
     },
     "execution_count": 89,
     "metadata": {},
     "output_type": "execute_result"
    }
   ],
   "source": [
    "#finding tranpose of a\n",
    "tf.transpose(a)"
   ]
  },
  {
   "cell_type": "markdown",
   "id": "d81f5b7e",
   "metadata": {},
   "source": [
    "# L"
   ]
  }
 ],
 "metadata": {
  "kernelspec": {
   "display_name": "Python 3 (ipykernel)",
   "language": "python",
   "name": "python3"
  },
  "language_info": {
   "codemirror_mode": {
    "name": "ipython",
    "version": 3
   },
   "file_extension": ".py",
   "mimetype": "text/x-python",
   "name": "python",
   "nbconvert_exporter": "python",
   "pygments_lexer": "ipython3",
   "version": "3.9.7"
  }
 },
 "nbformat": 4,
 "nbformat_minor": 5
}
