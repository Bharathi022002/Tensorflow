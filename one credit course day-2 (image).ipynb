{
 "cells": [
  {
   "cell_type": "code",
   "execution_count": 49,
   "id": "db3cc4b7",
   "metadata": {},
   "outputs": [],
   "source": [
    "#libraries\n",
    "import pandas as pd\n",
    "import numpy as np\n",
    "import tensorflow as tf\n",
    "from tensorflow import keras\n",
    "from matplotlib import pyplot as plt\n",
    "from sklearn.preprocessing import StandardScaler\n",
    "from sklearn.model_selection import train_test_split"
   ]
  },
  {
   "cell_type": "code",
   "execution_count": 55,
   "id": "6a33d703",
   "metadata": {},
   "outputs": [],
   "source": [
    "x=np.load('C:/Users/ELCOT/Downloads/X.npy')\n",
    "y=np.load('C:/Users/ELCOT/Downloads/Y.npy')\n"
   ]
  },
  {
   "cell_type": "code",
   "execution_count": 56,
   "id": "5541fe9c",
   "metadata": {},
   "outputs": [
    {
     "data": {
      "text/plain": [
       "array([[[0.46666667, 0.4745098 , 0.47843137, ..., 0.5176471 ,\n",
       "         0.5137255 , 0.5019608 ],\n",
       "        [0.49803922, 0.4862745 , 0.4862745 , ..., 0.5254902 ,\n",
       "         0.5176471 , 0.50980395],\n",
       "        [0.54509807, 0.49411765, 0.49019608, ..., 0.5294118 ,\n",
       "         0.5254902 , 0.5137255 ],\n",
       "        ...,\n",
       "        [0.5019608 , 0.5137255 , 0.5176471 , ..., 0.5529412 ,\n",
       "         0.54509807, 0.53333336],\n",
       "        [0.49803922, 0.5058824 , 0.5137255 , ..., 0.54509807,\n",
       "         0.53333336, 0.52156866],\n",
       "        [0.49019608, 0.49803922, 0.5019608 , ..., 0.5294118 ,\n",
       "         0.52156866, 0.50980395]],\n",
       "\n",
       "       [[0.59607846, 0.60784316, 0.61960787, ..., 0.4627451 ,\n",
       "         0.4509804 , 0.44313726],\n",
       "        [0.60784316, 0.61960787, 0.6313726 , ..., 0.4745098 ,\n",
       "         0.4627451 , 0.4509804 ],\n",
       "        [0.6156863 , 0.627451  , 0.6431373 , ..., 0.4862745 ,\n",
       "         0.4745098 , 0.4627451 ],\n",
       "        ...,\n",
       "        [0.50980395, 0.5176471 , 0.5254902 , ..., 0.40392157,\n",
       "         0.39607844, 0.3882353 ],\n",
       "        [0.5019608 , 0.50980395, 0.5176471 , ..., 0.4       ,\n",
       "         0.39215687, 0.38431373],\n",
       "        [0.49411765, 0.5058824 , 0.50980395, ..., 0.3882353 ,\n",
       "         0.38039216, 0.37254903]],\n",
       "\n",
       "       [[0.5882353 , 0.6039216 , 0.61960787, ..., 0.53333336,\n",
       "         0.5137255 , 0.5019608 ],\n",
       "        [0.5921569 , 0.6117647 , 0.6156863 , ..., 0.5411765 ,\n",
       "         0.52156866, 0.50980395],\n",
       "        [0.5882353 , 0.61960787, 0.627451  , ..., 0.54901963,\n",
       "         0.5294118 , 0.5137255 ],\n",
       "        ...,\n",
       "        [0.4745098 , 0.4862745 , 0.49411765, ..., 0.42745098,\n",
       "         0.41960785, 0.40784314],\n",
       "        [0.47058824, 0.47843137, 0.4862745 , ..., 0.41568628,\n",
       "         0.4117647 , 0.4       ],\n",
       "        [0.45882353, 0.47058824, 0.47843137, ..., 0.40392157,\n",
       "         0.4       , 0.3882353 ]],\n",
       "\n",
       "       ...,\n",
       "\n",
       "       [[0.5254902 , 0.54509807, 0.5568628 , ..., 0.49803922,\n",
       "         0.49019608, 0.4862745 ],\n",
       "        [0.5372549 , 0.5529412 , 0.5686275 , ..., 0.5019608 ,\n",
       "         0.49803922, 0.49019608],\n",
       "        [0.54509807, 0.5568628 , 0.57254905, ..., 0.5058824 ,\n",
       "         0.49803922, 0.49019608],\n",
       "        ...,\n",
       "        [0.5058824 , 0.50980395, 0.5137255 , ..., 0.4862745 ,\n",
       "         0.47843137, 0.47058824],\n",
       "        [0.49411765, 0.5058824 , 0.50980395, ..., 0.47843137,\n",
       "         0.47058824, 0.4627451 ],\n",
       "        [0.48235294, 0.49411765, 0.5058824 , ..., 0.47058824,\n",
       "         0.4627451 , 0.45490196]],\n",
       "\n",
       "       [[0.5137255 , 0.5254902 , 0.5372549 , ..., 0.45490196,\n",
       "         0.44705883, 0.43529412],\n",
       "        [0.5176471 , 0.53333336, 0.54901963, ..., 0.46666667,\n",
       "         0.45882353, 0.44705883],\n",
       "        [0.5254902 , 0.5411765 , 0.56078434, ..., 0.4745098 ,\n",
       "         0.4627451 , 0.4509804 ],\n",
       "        ...,\n",
       "        [0.53333336, 0.5411765 , 0.5529412 , ..., 0.54509807,\n",
       "         0.5372549 , 0.5294118 ],\n",
       "        [0.52156866, 0.53333336, 0.54509807, ..., 0.5372549 ,\n",
       "         0.5294118 , 0.52156866],\n",
       "        [0.5137255 , 0.5254902 , 0.5372549 , ..., 0.5294118 ,\n",
       "         0.5254902 , 0.5137255 ]],\n",
       "\n",
       "       [[0.92941177, 0.9372549 , 0.9372549 , ..., 0.9647059 ,\n",
       "         0.972549  , 0.972549  ],\n",
       "        [0.92941177, 0.93333334, 0.93333334, ..., 0.95686275,\n",
       "         0.9607843 , 0.9647059 ],\n",
       "        [0.93333334, 0.93333334, 0.93333334, ..., 0.9490196 ,\n",
       "         0.9490196 , 0.9529412 ],\n",
       "        ...,\n",
       "        [0.76862746, 0.76862746, 0.77254903, ..., 0.73333335,\n",
       "         0.74509805, 0.68235296],\n",
       "        [0.7647059 , 0.7647059 , 0.76862746, ..., 0.7254902 ,\n",
       "         0.7372549 , 0.6784314 ],\n",
       "        [0.75686276, 0.75686276, 0.7607843 , ..., 0.72156864,\n",
       "         0.73333335, 0.67058825]]], dtype=float32)"
      ]
     },
     "execution_count": 56,
     "metadata": {},
     "output_type": "execute_result"
    }
   ],
   "source": [
    "x"
   ]
  },
  {
   "cell_type": "code",
   "execution_count": 57,
   "id": "3c092a9f",
   "metadata": {},
   "outputs": [
    {
     "data": {
      "text/plain": [
       "(2062, 10)"
      ]
     },
     "execution_count": 57,
     "metadata": {},
     "output_type": "execute_result"
    }
   ],
   "source": [
    "y.shape"
   ]
  },
  {
   "cell_type": "code",
   "execution_count": 58,
   "id": "2f555529",
   "metadata": {},
   "outputs": [
    {
     "data": {
      "text/plain": [
       "(2062, 64, 64)"
      ]
     },
     "execution_count": 58,
     "metadata": {},
     "output_type": "execute_result"
    }
   ],
   "source": [
    "x.shape"
   ]
  },
  {
   "cell_type": "code",
   "execution_count": 59,
   "id": "d543288e",
   "metadata": {},
   "outputs": [
    {
     "data": {
      "image/png": "[encoded data removed]",
      "text/plain": [
       "<Figure size 432x288 with 1 Axes>"
      ]
     },
     "metadata": {
      "needs_background": "light"
     },
     "output_type": "display_data"
    }
   ],
   "source": [
    "#to see the image\n",
    "plt.imshow(x[5])\n",
    "plt.show()"
   ]
  },
  {
   "cell_type": "code",
   "execution_count": 60,
   "id": "a8037e63",
   "metadata": {},
   "outputs": [
    {
     "data": {
      "text/plain": [
       "array([1., 0., 0., 0., 0., 0., 0., 0., 0., 0.])"
      ]
     },
     "execution_count": 60,
     "metadata": {},
     "output_type": "execute_result"
    }
   ],
   "source": [
    "#image size\n",
    "y[0]"
   ]
  },
  {
   "cell_type": "code",
   "execution_count": 61,
   "id": "5351b1f2",
   "metadata": {},
   "outputs": [
    {
     "data": {
      "text/plain": [
       "<matplotlib.image.AxesImage at 0x22889044880>"
      ]
     },
     "execution_count": 61,
     "metadata": {},
     "output_type": "execute_result"
    },
    {
     "data": {
      "image/png": "[encoded data removed]",
      "text/plain": [
       "<Figure size 432x288 with 1 Axes>"
      ]
     },
     "metadata": {
      "needs_background": "light"
     },
     "output_type": "display_data"
    }
   ],
   "source": [
    "plt.imshow(x[23])\n"
   ]
  },
  {
   "cell_type": "code",
   "execution_count": 62,
   "id": "5049990a",
   "metadata": {},
   "outputs": [],
   "source": [
    "x_train,x_test,y_train,y_test=train_test_split(x,y,test_size=0.2,random_state=8)"
   ]
  },
  {
   "cell_type": "code",
   "execution_count": 63,
   "id": "c0b1770f",
   "metadata": {},
   "outputs": [
    {
     "data": {
      "text/plain": [
       "(1649, 64, 64)"
      ]
     },
     "execution_count": 63,
     "metadata": {},
     "output_type": "execute_result"
    }
   ],
   "source": [
    "#as x_train has 3-D , it does not support in ANN\n",
    "x_train.shape"
   ]
  },
  {
   "cell_type": "code",
   "execution_count": 64,
   "id": "3cb39a25",
   "metadata": {},
   "outputs": [
    {
     "data": {
      "text/plain": [
       "array([[0.5254902 , 0.5411765 , 0.5568628 , ..., 0.39215687, 0.38431373,\n",
       "        0.38039216],\n",
       "       [0.49411765, 0.5058824 , 0.5137255 , ..., 0.4862745 , 0.4745098 ,\n",
       "        0.4627451 ],\n",
       "       [0.5294118 , 0.54509807, 0.5568628 , ..., 0.49019608, 0.47843137,\n",
       "        0.46666667],\n",
       "       ...,\n",
       "       [0.5137255 , 0.5254902 , 0.5372549 , ..., 0.4392157 , 0.43529412,\n",
       "        0.42745098],\n",
       "       [0.45882353, 0.47058824, 0.48235294, ..., 0.48235294, 0.47058824,\n",
       "        0.4627451 ],\n",
       "       [0.78039217, 0.7921569 , 0.8039216 , ..., 0.6392157 , 0.627451  ,\n",
       "        0.62352943]], dtype=float32)"
      ]
     },
     "execution_count": 64,
     "metadata": {},
     "output_type": "execute_result"
    }
   ],
   "source": [
    "#converting to 2-D\n",
    "x_train=x_train.reshape(1649,64*64)\n",
    "x_train"
   ]
  },
  {
   "cell_type": "code",
   "execution_count": 65,
   "id": "cf1091f5",
   "metadata": {},
   "outputs": [
    {
     "data": {
      "text/plain": [
       "(413, 64, 64)"
      ]
     },
     "execution_count": 65,
     "metadata": {},
     "output_type": "execute_result"
    }
   ],
   "source": [
    "x_test.shape"
   ]
  },
  {
   "cell_type": "code",
   "execution_count": 66,
   "id": "0a45a63a",
   "metadata": {},
   "outputs": [
    {
     "data": {
      "text/plain": [
       "array([[0.9137255 , 0.90588236, 0.8901961 , ..., 0.7058824 , 0.7058824 ,\n",
       "        0.7058824 ],\n",
       "       [0.49019608, 0.49411765, 0.49019608, ..., 0.5254902 , 0.5176471 ,\n",
       "        0.5058824 ],\n",
       "       [0.47843137, 0.49019608, 0.5019608 , ..., 0.49803922, 0.49019608,\n",
       "        0.48235294],\n",
       "       ...,\n",
       "       [0.5529412 , 0.5647059 , 0.5764706 , ..., 0.44705883, 0.43529412,\n",
       "        0.42352942],\n",
       "       [0.5137255 , 0.5254902 , 0.5372549 , ..., 0.4117647 , 0.40392157,\n",
       "        0.39215687],\n",
       "       [0.5764706 , 0.5882353 , 0.6039216 , ..., 0.37254903, 0.36862746,\n",
       "        0.36078432]], dtype=float32)"
      ]
     },
     "execution_count": 66,
     "metadata": {},
     "output_type": "execute_result"
    }
   ],
   "source": [
    "x_test=x_test.reshape(413,64*64)\n",
    "x_test"
   ]
  },
  {
   "cell_type": "code",
   "execution_count": 67,
   "id": "1800ad11",
   "metadata": {},
   "outputs": [],
   "source": [
    "nn=Sequential()\n",
    "nn.add(Dense(units=512,activation='relu',input_dim=4096))\n",
    "nn.add(Dense(units=348,activation='relu'))\n",
    "nn.add(Dense(units=213,activation='relu'))\n",
    "nn.add(Dense(units=111,activation='relu'))\n",
    "nn.add(Dense(units=56,activation='relu'))\n",
    "nn.add(Dense(units=10,activation='softmax'))\n",
    "nn.compile(optimizer='Adam',loss='categorical_crossentropy',metrics=['accuracy'])"
   ]
  },
  {
   "cell_type": "code",
   "execution_count": 68,
   "id": "c6db0a3e",
   "metadata": {},
   "outputs": [
    {
     "name": "stdout",
     "output_type": "stream",
     "text": [
      "Epoch 1/50\n",
      "83/83 [==============================] - 7s 58ms/step - loss: 2.4489 - accuracy: 0.1019\n",
      "Epoch 2/50\n",
      "83/83 [==============================] - 5s 59ms/step - loss: 2.2531 - accuracy: 0.1559\n",
      "Epoch 3/50\n",
      "83/83 [==============================] - 5s 63ms/step - loss: 2.0588 - accuracy: 0.2098\n",
      "Epoch 4/50\n",
      "83/83 [==============================] - 4s 52ms/step - loss: 1.8664 - accuracy: 0.2784\n",
      "Epoch 5/50\n",
      "83/83 [==============================] - 3s 39ms/step - loss: 1.6735 - accuracy: 0.3548\n",
      "Epoch 6/50\n",
      "83/83 [==============================] - 3s 42ms/step - loss: 1.6446 - accuracy: 0.3626\n",
      "Epoch 7/50\n",
      "83/83 [==============================] - 4s 45ms/step - loss: 1.5012 - accuracy: 0.4069\n",
      "Epoch 8/50\n",
      "83/83 [==============================] - 3s 42ms/step - loss: 1.3545 - accuracy: 0.4912\n",
      "Epoch 9/50\n",
      "83/83 [==============================] - 4s 44ms/step - loss: 1.2980 - accuracy: 0.4967\n",
      "Epoch 10/50\n",
      "83/83 [==============================] - 4s 45ms/step - loss: 1.2587 - accuracy: 0.5155\n",
      "Epoch 11/50\n",
      "83/83 [==============================] - 4s 44ms/step - loss: 1.2628 - accuracy: 0.5149\n",
      "Epoch 12/50\n",
      "83/83 [==============================] - 4s 45ms/step - loss: 1.1383 - accuracy: 0.5622\n",
      "Epoch 13/50\n",
      "83/83 [==============================] - 3s 42ms/step - loss: 1.2735 - accuracy: 0.5161\n",
      "Epoch 14/50\n",
      "83/83 [==============================] - 4s 44ms/step - loss: 1.1061 - accuracy: 0.5616\n",
      "Epoch 15/50\n",
      "83/83 [==============================] - 3s 38ms/step - loss: 1.1133 - accuracy: 0.5658\n",
      "Epoch 16/50\n",
      "83/83 [==============================] - 3s 40ms/step - loss: 1.0313 - accuracy: 0.6016\n",
      "Epoch 17/50\n",
      "83/83 [==============================] - 3s 42ms/step - loss: 1.0380 - accuracy: 0.6107\n",
      "Epoch 18/50\n",
      "83/83 [==============================] - 4s 47ms/step - loss: 0.9889 - accuracy: 0.6107\n",
      "Epoch 19/50\n",
      "83/83 [==============================] - 4s 46ms/step - loss: 1.0010 - accuracy: 0.5985\n",
      "Epoch 20/50\n",
      "83/83 [==============================] - 4s 44ms/step - loss: 1.1256 - accuracy: 0.5846\n",
      "Epoch 21/50\n",
      "83/83 [==============================] - 4s 43ms/step - loss: 1.0483 - accuracy: 0.5919\n",
      "Epoch 22/50\n",
      "83/83 [==============================] - 4s 44ms/step - loss: 1.0168 - accuracy: 0.6161\n",
      "Epoch 23/50\n",
      "83/83 [==============================] - 4s 47ms/step - loss: 1.0236 - accuracy: 0.6161\n",
      "Epoch 24/50\n",
      "83/83 [==============================] - 4s 44ms/step - loss: 0.9573 - accuracy: 0.6440\n",
      "Epoch 25/50\n",
      "83/83 [==============================] - 4s 46ms/step - loss: 0.8962 - accuracy: 0.6677\n",
      "Epoch 26/50\n",
      "83/83 [==============================] - 3s 42ms/step - loss: 0.8792 - accuracy: 0.6671\n",
      "Epoch 27/50\n",
      "83/83 [==============================] - 4s 48ms/step - loss: 0.8898 - accuracy: 0.6646\n",
      "Epoch 28/50\n",
      "83/83 [==============================] - 4s 42ms/step - loss: 0.9041 - accuracy: 0.6477\n",
      "Epoch 29/50\n",
      "83/83 [==============================] - 3s 38ms/step - loss: 0.8210 - accuracy: 0.7004\n",
      "Epoch 30/50\n",
      "83/83 [==============================] - 4s 54ms/step - loss: 0.8282 - accuracy: 0.6962\n",
      "Epoch 31/50\n",
      "83/83 [==============================] - 4s 47ms/step - loss: 0.7838 - accuracy: 0.7126\n",
      "Epoch 32/50\n",
      "83/83 [==============================] - 4s 44ms/step - loss: 0.8674 - accuracy: 0.6713\n",
      "Epoch 33/50\n",
      "83/83 [==============================] - 3s 41ms/step - loss: 0.7810 - accuracy: 0.7156\n",
      "Epoch 34/50\n",
      "83/83 [==============================] - 4s 49ms/step - loss: 0.7289 - accuracy: 0.7404\n",
      "Epoch 35/50\n",
      "83/83 [==============================] - 4s 43ms/step - loss: 0.7080 - accuracy: 0.7514\n",
      "Epoch 36/50\n",
      "83/83 [==============================] - 4s 44ms/step - loss: 0.7344 - accuracy: 0.7229\n",
      "Epoch 37/50\n",
      "83/83 [==============================] - 4s 52ms/step - loss: 0.7164 - accuracy: 0.7423\n",
      "Epoch 38/50\n",
      "83/83 [==============================] - 4s 53ms/step - loss: 0.6383 - accuracy: 0.7714\n",
      "Epoch 39/50\n",
      "83/83 [==============================] - 4s 47ms/step - loss: 0.6169 - accuracy: 0.7774\n",
      "Epoch 40/50\n",
      "83/83 [==============================] - 4s 47ms/step - loss: 0.7271 - accuracy: 0.7532\n",
      "Epoch 41/50\n",
      "83/83 [==============================] - 4s 47ms/step - loss: 0.6195 - accuracy: 0.7756\n",
      "Epoch 42/50\n",
      "83/83 [==============================] - 3s 41ms/step - loss: 0.5969 - accuracy: 0.7890\n",
      "Epoch 43/50\n",
      "83/83 [==============================] - 4s 43ms/step - loss: 0.5544 - accuracy: 0.8029\n",
      "Epoch 44/50\n",
      "83/83 [==============================] - 4s 49ms/step - loss: 0.6579 - accuracy: 0.7629\n",
      "Epoch 45/50\n",
      "83/83 [==============================] - 3s 42ms/step - loss: 0.6488 - accuracy: 0.7762\n",
      "Epoch 46/50\n",
      "83/83 [==============================] - 3s 40ms/step - loss: 0.6049 - accuracy: 0.7865\n",
      "Epoch 47/50\n",
      "83/83 [==============================] - 4s 42ms/step - loss: 0.5700 - accuracy: 0.7962\n",
      "Epoch 48/50\n",
      "83/83 [==============================] - 3s 41ms/step - loss: 0.4870 - accuracy: 0.8290\n",
      "Epoch 49/50\n",
      "83/83 [==============================] - 3s 41ms/step - loss: 0.4997 - accuracy: 0.8290\n",
      "Epoch 50/50\n",
      "83/83 [==============================] - 3s 41ms/step - loss: 0.5572 - accuracy: 0.7993\n"
     ]
    },
    {
     "data": {
      "text/plain": [
       "<keras.callbacks.History at 0x22888454280>"
      ]
     },
     "execution_count": 68,
     "metadata": {},
     "output_type": "execute_result"
    }
   ],
   "source": [
    "nn.fit(x_train,y_train,batch_size=20,epochs=50)"
   ]
  },
  {
   "cell_type": "code",
   "execution_count": 69,
   "id": "1ac283cf",
   "metadata": {},
   "outputs": [
    {
     "name": "stdout",
     "output_type": "stream",
     "text": [
      "13/13 [==============================] - 1s 28ms/step - loss: 0.8399 - accuracy: 0.7482\n"
     ]
    },
    {
     "data": {
      "text/plain": [
       "[0.8398763537406921, 0.7481840252876282]"
      ]
     },
     "execution_count": 69,
     "metadata": {},
     "output_type": "execute_result"
    }
   ],
   "source": [
    "nn.evaluate(x_test,y_test)"
   ]
  },
  {
   "cell_type": "markdown",
   "id": "88ff14e3",
   "metadata": {},
   "source": [
    "# Prediction"
   ]
  },
  {
   "cell_type": "code",
   "execution_count": 71,
   "id": "686c49f2",
   "metadata": {},
   "outputs": [
    {
     "name": "stdout",
     "output_type": "stream",
     "text": [
      "1/1 [==============================] - 0s 64ms/step\n"
     ]
    },
    {
     "data": {
      "text/plain": [
       "array([[5.1560593e-03, 7.9462504e-01, 5.4436658e-02, 1.2518052e-02,\n",
       "        3.3435490e-02, 8.4105888e-03, 8.7129198e-02, 1.6542661e-03,\n",
       "        5.4821593e-04, 2.0864154e-03],\n",
       "       [2.1428798e-07, 7.3418007e-03, 3.8724970e-03, 2.9091544e-07,\n",
       "        9.8649698e-01, 3.5651527e-05, 2.3213129e-06, 1.7651201e-04,\n",
       "        2.0735504e-03, 1.7238190e-07],\n",
       "       [8.0918837e-01, 2.1945318e-02, 3.9928488e-04, 3.4670938e-05,\n",
       "        7.8175141e-04, 1.5584648e-01, 3.2070638e-03, 7.1588927e-03,\n",
       "        5.0823946e-06, 1.4330919e-03]], dtype=float32)"
      ]
     },
     "execution_count": 71,
     "metadata": {},
     "output_type": "execute_result"
    }
   ],
   "source": [
    "nn.predict(x_test[0:3].round(2))"
   ]
  },
  {
   "cell_type": "code",
   "execution_count": 72,
   "id": "44171e28",
   "metadata": {},
   "outputs": [
    {
     "data": {
      "text/plain": [
       "array([[0., 1., 0., 0., 0., 0., 0., 0., 0., 0.],\n",
       "       [0., 0., 0., 0., 1., 0., 0., 0., 0., 0.],\n",
       "       [1., 0., 0., 0., 0., 0., 0., 0., 0., 0.]])"
      ]
     },
     "execution_count": 72,
     "metadata": {},
     "output_type": "execute_result"
    }
   ],
   "source": [
    "y_test[0:3]"
   ]
  },
  {
   "cell_type": "code",
   "execution_count": 73,
   "id": "2018174f",
   "metadata": {},
   "outputs": [
    {
     "name": "stdout",
     "output_type": "stream",
     "text": [
      "1/1 [==============================] - 0s 125ms/step\n"
     ]
    },
    {
     "data": {
      "text/plain": [
       "array([1, 4, 0], dtype=int64)"
      ]
     },
     "execution_count": 73,
     "metadata": {},
     "output_type": "execute_result"
    }
   ],
   "source": [
    "np.argmax(nn.predict(x_test[0:3].round(2)),axis=1)"
   ]
  },
  {
   "cell_type": "code",
   "execution_count": 74,
   "id": "9028828c",
   "metadata": {},
   "outputs": [
    {
     "data": {
      "text/plain": [
       "array([1, 4, 0], dtype=int64)"
      ]
     },
     "execution_count": 74,
     "metadata": {},
     "output_type": "execute_result"
    }
   ],
   "source": [
    "#display where has max value\n",
    "np.argmax(y_test[0:3],axis=1)"
   ]
  },
  {
   "cell_type": "code",
   "execution_count": null,
   "id": "1ee0c61f",
   "metadata": {},
   "outputs": [],
   "source": []
  }
 ],
 "metadata": {
  "kernelspec": {
   "display_name": "Python 3 (ipykernel)",
   "language": "python",
   "name": "python3"
  },
  "language_info": {
   "codemirror_mode": {
    "name": "ipython",
    "version": 3
   },
   "file_extension": ".py",
   "mimetype": "text/x-python",
   "name": "python",
   "nbconvert_exporter": "python",
   "pygments_lexer": "ipython3",
   "version": "3.9.7"
  }
 },
 "nbformat": 4,
 "nbformat_minor": 5
}
